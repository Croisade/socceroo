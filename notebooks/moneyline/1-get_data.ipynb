{
 "cells": [
  {
   "cell_type": "code",
   "execution_count": 1,
   "metadata": {},
   "outputs": [],
   "source": [
    "import pandas as pd\n",
    "from functools import reduce\n",
    "import sys\n",
    "from random import randint\n",
    "from time import sleep\n",
    "sys.path.append(\"../..\")\n",
    "from config.settings import get_data_url, OddsMatchColumn, ODDS_COLUMN_VALUES, FB_REF_TEAM_TO_CLUB, get_data_directory_matches,DIRECTORY_MLS_MATCHES_ODDS, TEAM_NAME_TO_CLUB, DIRECTORY_COMBINED_MATCHES_CLEAN, extract_number, Club, RELEVANT_YEARS, DIRECTORY_COMBINED_MATCHES_CLEAN_AGG, LINEAR_COLS, POINTS_MAP, COLS_TO_FEATURES, MatchLogTypes\n",
    "pd.set_option('display.max_columns', 70)\n",
    "df = pd.read_csv(\"../../data/Combined_Team_Stats.csv\")\n",
    "df_matches = pd.read_csv(\"../../data/Combined_MLS_Data2024.csv\")\n",
    "df_odds = pd.read_excel(\"../../data/mls_historical_odds.xlsx\")"
   ]
  },
  {
   "cell_type": "code",
   "execution_count": 2,
   "metadata": {},
   "outputs": [],
   "source": [
    "def parse_date_with_multiple_formats(date_str):\n",
    "    for fmt in ('%m/%d/%Y', '%Y-%m-%d %H:%M:%S'):\n",
    "        try:\n",
    "            return pd.to_datetime(date_str, format=fmt)\n",
    "        except ValueError as e:\n",
    "            print(f\"{date_str} , Error occurred: {e}\")\n",
    "            continue\n",
    "    return pd.NaT  # Return Not a Time for unparseable formats\n"
   ]
  },
  {
   "cell_type": "code",
   "execution_count": 3,
   "metadata": {},
   "outputs": [],
   "source": [
    "def normalize_team_names(df: pd.DataFrame, columns: list[str]) -> pd.DataFrame:\n",
    "    for col in columns:\n",
    "        df[col] = df[col].map(lambda x: TEAM_NAME_TO_CLUB.get(x, None).value if x in TEAM_NAME_TO_CLUB else x)\n",
    "    return df\n"
   ]
  },
  {
   "cell_type": "code",
   "execution_count": 4,
   "metadata": {},
   "outputs": [
    {
     "name": "stderr",
     "output_type": "stream",
     "text": [
      "C:\\Users\\jamal\\AppData\\Local\\Temp\\ipykernel_24256\\811614169.py:2: SettingWithCopyWarning: \n",
      "A value is trying to be set on a copy of a slice from a DataFrame.\n",
      "Try using .loc[row_indexer,col_indexer] = value instead\n",
      "\n",
      "See the caveats in the documentation: https://pandas.pydata.org/pandas-docs/stable/user_guide/indexing.html#returning-a-view-versus-a-copy\n",
      "  filtered_df['Date'] = filtered_df['Date'].apply(parse_date_with_multiple_formats)\n"
     ]
    }
   ],
   "source": [
    "\n",
    "filtered_df = df_odds[~df_odds['Season'].between(2012, 2017)]\n",
    "filtered_df['Date'] = filtered_df['Date'].apply(parse_date_with_multiple_formats)"
   ]
  },
  {
   "cell_type": "code",
   "execution_count": null,
   "metadata": {},
   "outputs": [
    {
     "name": "stdout",
     "output_type": "stream",
     "text": [
      "['Nashville-SC' 'Atlanta-United' 'Charlotte-FC' 'DC-United'\n",
      " 'FC-Cincinnati' 'Inter-Miami' 'Orlando-City' 'Philadelphia-Union'\n",
      " 'Austin-FC' 'FC-Dallas' 'Vancouver-Whitecaps-FC' 'Seattle-Sounders'\n",
      " 'Portland-Timbers' 'Columbus-Crew' 'New-England-Revolution'\n",
      " 'New-York-Red-Bulls' 'Chicago-Fire' 'St-Louis-City' 'Colorado-Rapids'\n",
      " 'San-Jose-Earthquakes' 'Los-Angeles-FC' 'LA-Galaxy' 'Houston-Dynamo'\n",
      " 'New-York-City-FC' 'Toronto-FC' 'Minnesota-United' 'Real-Salt-Lake'\n",
      " 'Sporting-Kansas-City' 'CF-Montreal']\n"
     ]
    },
    {
     "name": "stderr",
     "output_type": "stream",
     "text": [
      "C:\\Users\\jamal\\AppData\\Local\\Temp\\ipykernel_24256\\242616791.py:3: SettingWithCopyWarning: \n",
      "A value is trying to be set on a copy of a slice from a DataFrame.\n",
      "Try using .loc[row_indexer,col_indexer] = value instead\n",
      "\n",
      "See the caveats in the documentation: https://pandas.pydata.org/pandas-docs/stable/user_guide/indexing.html#returning-a-view-versus-a-copy\n",
      "  df[col] = df[col].map(lambda x: TEAM_NAME_TO_CLUB.get(x, None).value if x in TEAM_NAME_TO_CLUB else x)\n"
     ]
    }
   ],
   "source": [
    "df_odds_clean = filtered_df[ODDS_COLUMN_VALUES]\n",
    "df_odds_clean = normalize_team_names(filtered_df, [OddsMatchColumn.HOME_TEAM.value, OddsMatchColumn.AWAY_TEAM.value])\n",
    "print(df_odds_clean[OddsMatchColumn.HOME_TEAM.value].unique())\n",
    "df_odds_clean.to_csv(DIRECTORY_MLS_MATCHES_ODDS)"
   ]
  },
  {
   "cell_type": "code",
   "execution_count": 15,
   "metadata": {},
   "outputs": [],
   "source": [
    "def flatten_columns(df: pd.DataFrame) -> pd.DataFrame:\n",
    "    df.columns = [\n",
    "        col[1].strip() if isinstance(col, tuple) and len(col) > 1 else str(col).strip()\n",
    "        for col in df.columns\n",
    "    ]\n",
    "    return df\n",
    "\n",
    "def normalize_date_column(df: pd.DataFrame) -> pd.DataFrame:\n",
    "    for col in df.columns:\n",
    "        if \"date\" in col.lower():\n",
    "            df.rename(columns={col: \"Date\"}, inplace=True)\n",
    "            df[\"Date\"] = pd.to_datetime(df[\"Date\"], errors='coerce')\n",
    "            break\n",
    "    return df"
   ]
  },
  {
   "cell_type": "code",
   "execution_count": 20,
   "metadata": {},
   "outputs": [],
   "source": [
    "def load_fbref_table(url: str, ATTRs: dict = {\"id\": \"matchlogs_for\"}) -> pd.DataFrame:\n",
    "    try:\n",
    "        tables = pd.read_html(url, attrs=ATTRs)\n",
    "        df = tables[0]\n",
    "        df = flatten_columns(df)\n",
    "        df = normalize_date_column(df)\n",
    "        return df\n",
    "    except Exception as e:\n",
    "        print(f\"Error loading table from {url}: {e}\")\n",
    "        return pd.DataFrame()"
   ]
  },
  {
   "cell_type": "code",
   "execution_count": 22,
   "metadata": {},
   "outputs": [],
   "source": [
    "def merge_fbref_matchlogs(club: Club, year: int, log_types: list[MatchLogTypes]) -> pd.DataFrame:\n",
    "    dfs = []\n",
    "    for log_type in log_types:\n",
    "        sleep(randint(15,20))\n",
    "        url = get_data_url(club, log_type.value, year)\n",
    "        df = load_fbref_table(url)\n",
    "        if not df.empty:\n",
    "            dfs.append(df)\n",
    "    if not dfs:\n",
    "        return pd.DataFrame()\n",
    "\n",
    "    return reduce(lambda left, right: pd.merge(left, right, on=\"Date\", how=\"outer\"), dfs)"
   ]
  },
  {
   "cell_type": "code",
   "execution_count": 24,
   "metadata": {},
   "outputs": [],
   "source": [
    "for year in [2025]:\n",
    "    df_list = []\n",
    "    for c in Club:\n",
    "        merged_df = merge_fbref_matchlogs(\n",
    "            c,\n",
    "            year,\n",
    "            [MatchLogTypes.Shooting, MatchLogTypes.GoalAndShotCreation]\n",
    "        )\n",
    "        merged_df['Team'] = c.value\n",
    "        if not merged_df.empty:\n",
    "            merged_df['Team'] = c.value\n",
    "            df_list.append(merged_df)\n",
    "\n",
    "    combined_df = pd.concat(df_list, ignore_index=True)\n",
    "    combined_df.to_csv(get_data_directory_matches(year))\n",
    "\n"
   ]
  },
  {
   "cell_type": "code",
   "execution_count": 2,
   "metadata": {},
   "outputs": [],
   "source": [
    "import numpy as np\n",
    "\n",
    "def agg_relevant_stats(year, df):\n",
    "    # Map points for all rows first\n",
    "    df['Pts'] = df['Result_x'].map(POINTS_MAP)\n",
    "    df['GF_x'] = df['GF_x'].apply(extract_number)\n",
    "\n",
    "    # Set points to NaN or 0 where it's not Regular Season\n",
    "    df.loc[df['Round_x'] != 'Regular Season', 'Pts'] = np.nan  # or `np.nan` if you want to ignore\n",
    "\n",
    "    summary_df = df.groupby(\"Team\")[LINEAR_COLS + ['Pts']].sum().reset_index()\n",
    "    summary_df['Season'] = year\n",
    "    summary_df = summary_df.rename(columns=COLS_TO_FEATURES)\n",
    "\n",
    "    return summary_df\n",
    "\n"
   ]
  },
  {
   "cell_type": "code",
   "execution_count": 3,
   "metadata": {},
   "outputs": [],
   "source": [
    "def get_relevant_stats(df):\n",
    "    # Desired columns\n",
    "    desired_cols = LINEAR_COLS + ['Team', 'Date', 'Season']\n",
    "    # Only keep those that actually exist\n",
    "    available_cols = [col for col in desired_cols if col in df.columns]\n",
    "\n",
    "    # Now safely select\n",
    "    df = df[available_cols]\n",
    "    df= df.rename(columns=COLS_TO_FEATURES)\n",
    "    df['GF'] = df['GF'].apply(extract_number)\n",
    "    df['GA'] = df['GA'].apply(extract_number)\n",
    "\n",
    "    return df"
   ]
  },
  {
   "cell_type": "code",
   "execution_count": 6,
   "metadata": {},
   "outputs": [],
   "source": [
    "df_combined_list_agg_clean = []\n",
    "df_combined_list = []\n",
    "for year in RELEVANT_YEARS:\n",
    "    df = pd.read_csv(get_data_directory_matches(year))\n",
    "    df[\"Season\"] = year\n",
    "    # Keep only rows where Opponent_x is in the mapping dict\n",
    "    df = df[df[\"Opponent_x\"].isin(FB_REF_TEAM_TO_CLUB.keys())]\n",
    "\n",
    "    # Then map to Club enum\n",
    "    df[\"Opponent_x\"] = df[\"Opponent_x\"].map(FB_REF_TEAM_TO_CLUB)\n",
    "\n",
    "\n",
    "    df_clean = get_relevant_stats(df.copy())\n",
    "    df_combined_list.append(df_clean)\n",
    "\n",
    "    df_agg_clean = agg_relevant_stats(year, df.copy())\n",
    "    df_combined_list_agg_clean.append(df_agg_clean)\n",
    "\n",
    "\n",
    "df_combined_clean = pd.concat(df_combined_list_agg_clean)\n",
    "df_combined_clean.to_csv(DIRECTORY_COMBINED_MATCHES_CLEAN_AGG)\n",
    "\n",
    "df_combined = pd.concat(df_combined_list)\n",
    "df_combined.to_csv(DIRECTORY_COMBINED_MATCHES_CLEAN)\n"
   ]
  },
  {
   "cell_type": "code",
   "execution_count": null,
   "metadata": {},
   "outputs": [],
   "source": []
  }
 ],
 "metadata": {
  "kernelspec": {
   "display_name": "base",
   "language": "python",
   "name": "python3"
  },
  "language_info": {
   "codemirror_mode": {
    "name": "ipython",
    "version": 3
   },
   "file_extension": ".py",
   "mimetype": "text/x-python",
   "name": "python",
   "nbconvert_exporter": "python",
   "pygments_lexer": "ipython3",
   "version": "3.13.5"
  }
 },
 "nbformat": 4,
 "nbformat_minor": 2
}
