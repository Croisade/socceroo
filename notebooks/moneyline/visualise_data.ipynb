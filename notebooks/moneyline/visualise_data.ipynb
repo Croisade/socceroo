{
 "cells": [
  {
   "cell_type": "code",
   "execution_count": 7,
   "metadata": {},
   "outputs": [
    {
     "data": {
      "text/html": [
       "<div>\n",
       "<style scoped>\n",
       "    .dataframe tbody tr th:only-of-type {\n",
       "        vertical-align: middle;\n",
       "    }\n",
       "\n",
       "    .dataframe tbody tr th {\n",
       "        vertical-align: top;\n",
       "    }\n",
       "\n",
       "    .dataframe thead th {\n",
       "        text-align: right;\n",
       "    }\n",
       "</style>\n",
       "<table border=\"1\" class=\"dataframe\">\n",
       "  <thead>\n",
       "    <tr style=\"text-align: right;\">\n",
       "      <th></th>\n",
       "      <th>Unnamed: 0</th>\n",
       "      <th>Team</th>\n",
       "      <th>Season</th>\n",
       "      <th>npxG</th>\n",
       "      <th>SCA</th>\n",
       "      <th>GCA</th>\n",
       "      <th>GF</th>\n",
       "      <th>Sh</th>\n",
       "      <th>xA</th>\n",
       "      <th>SoT</th>\n",
       "      <th>Pts</th>\n",
       "    </tr>\n",
       "  </thead>\n",
       "  <tbody>\n",
       "    <tr>\n",
       "      <th>0</th>\n",
       "      <td>0</td>\n",
       "      <td>Dynamo FC</td>\n",
       "      <td>2023</td>\n",
       "      <td>40.2</td>\n",
       "      <td>688</td>\n",
       "      <td>93</td>\n",
       "      <td>51</td>\n",
       "      <td>379</td>\n",
       "      <td>36.8</td>\n",
       "      <td>143</td>\n",
       "      <td>51</td>\n",
       "    </tr>\n",
       "    <tr>\n",
       "      <th>1</th>\n",
       "      <td>1</td>\n",
       "      <td>Toronto FC</td>\n",
       "      <td>2023</td>\n",
       "      <td>30.5</td>\n",
       "      <td>621</td>\n",
       "      <td>49</td>\n",
       "      <td>26</td>\n",
       "      <td>347</td>\n",
       "      <td>26.3</td>\n",
       "      <td>122</td>\n",
       "      <td>22</td>\n",
       "    </tr>\n",
       "    <tr>\n",
       "      <th>2</th>\n",
       "      <td>2</td>\n",
       "      <td>FC Dallas</td>\n",
       "      <td>2023</td>\n",
       "      <td>37.1</td>\n",
       "      <td>607</td>\n",
       "      <td>75</td>\n",
       "      <td>41</td>\n",
       "      <td>340</td>\n",
       "      <td>31.1</td>\n",
       "      <td>115</td>\n",
       "      <td>46</td>\n",
       "    </tr>\n",
       "    <tr>\n",
       "      <th>3</th>\n",
       "      <td>3</td>\n",
       "      <td>Atlanta Utd</td>\n",
       "      <td>2023</td>\n",
       "      <td>45.6</td>\n",
       "      <td>801</td>\n",
       "      <td>109</td>\n",
       "      <td>66</td>\n",
       "      <td>436</td>\n",
       "      <td>38.1</td>\n",
       "      <td>168</td>\n",
       "      <td>51</td>\n",
       "    </tr>\n",
       "    <tr>\n",
       "      <th>4</th>\n",
       "      <td>4</td>\n",
       "      <td>Nashville</td>\n",
       "      <td>2023</td>\n",
       "      <td>38.1</td>\n",
       "      <td>651</td>\n",
       "      <td>70</td>\n",
       "      <td>39</td>\n",
       "      <td>378</td>\n",
       "      <td>27.2</td>\n",
       "      <td>113</td>\n",
       "      <td>49</td>\n",
       "    </tr>\n",
       "  </tbody>\n",
       "</table>\n",
       "</div>"
      ],
      "text/plain": [
       "   Unnamed: 0         Team  Season  npxG  SCA  GCA  GF   Sh    xA  SoT  Pts\n",
       "0           0    Dynamo FC    2023  40.2  688   93  51  379  36.8  143   51\n",
       "1           1   Toronto FC    2023  30.5  621   49  26  347  26.3  122   22\n",
       "2           2    FC Dallas    2023  37.1  607   75  41  340  31.1  115   46\n",
       "3           3  Atlanta Utd    2023  45.6  801  109  66  436  38.1  168   51\n",
       "4           4    Nashville    2023  38.1  651   70  39  378  27.2  113   49"
      ]
     },
     "execution_count": 7,
     "metadata": {},
     "output_type": "execute_result"
    }
   ],
   "source": [
    "import pandas as pd\n",
    "import matplotlib.pyplot as plt\n",
    "import matplotlib as mpl\n",
    "\n",
    "mpl.rcParams['axes.grid'] = \"True\"\n",
    "mpl.rcParams['axes.spines.top'] = \"False\"\n",
    "mpl.rcParams['axes.spines.right'] = \"False\"\n",
    "mpl.rcParams['xtick.labelsize'] = 20\n",
    "mpl.rcParams['ytick.labelsize'] = 20\n",
    "\n",
    "df_mls = pd.read_csv(\"../../data/MLS_1823_clean.csv\")\n",
    "df_mls.head(5)"
   ]
  },
  {
   "cell_type": "code",
   "execution_count": 9,
   "metadata": {},
   "outputs": [
    {
     "data": {
      "text/html": [
       "<div>\n",
       "<style scoped>\n",
       "    .dataframe tbody tr th:only-of-type {\n",
       "        vertical-align: middle;\n",
       "    }\n",
       "\n",
       "    .dataframe tbody tr th {\n",
       "        vertical-align: top;\n",
       "    }\n",
       "\n",
       "    .dataframe thead th {\n",
       "        text-align: right;\n",
       "    }\n",
       "</style>\n",
       "<table border=\"1\" class=\"dataframe\">\n",
       "  <thead>\n",
       "    <tr style=\"text-align: right;\">\n",
       "      <th></th>\n",
       "      <th>Unnamed: 0</th>\n",
       "      <th>Team</th>\n",
       "      <th>Season</th>\n",
       "      <th>npxG</th>\n",
       "      <th>SCA</th>\n",
       "      <th>GCA</th>\n",
       "      <th>GF</th>\n",
       "      <th>Sh</th>\n",
       "      <th>xA</th>\n",
       "      <th>SoT</th>\n",
       "      <th>Pts</th>\n",
       "    </tr>\n",
       "  </thead>\n",
       "  <tbody>\n",
       "    <tr>\n",
       "      <th>46</th>\n",
       "      <td>46</td>\n",
       "      <td>Vancouver</td>\n",
       "      <td>2022</td>\n",
       "      <td>34.3</td>\n",
       "      <td>675</td>\n",
       "      <td>65</td>\n",
       "      <td>40</td>\n",
       "      <td>382</td>\n",
       "      <td>30.7</td>\n",
       "      <td>119</td>\n",
       "      <td>43</td>\n",
       "    </tr>\n",
       "  </tbody>\n",
       "</table>\n",
       "</div>"
      ],
      "text/plain": [
       "    Unnamed: 0       Team  Season  npxG  SCA  GCA  GF   Sh    xA  SoT  Pts\n",
       "46          46  Vancouver    2022  34.3  675   65  40  382  30.7  119   43"
      ]
     },
     "execution_count": 9,
     "metadata": {},
     "output_type": "execute_result"
    }
   ],
   "source": [
    "df_vancouver = df_mls[(df_mls[\"Season\"] == 2022) & (df_mls[\"Team\"] == \"Vancouver\")]\n",
    "df_vancouver.head(5)"
   ]
  },
  {
   "cell_type": "code",
   "execution_count": null,
   "metadata": {},
   "outputs": [
    {
     "data": {
      "image/png": "[encoded data removed]",
      "text/plain": [
       "<Figure size 800x800 with 1 Axes>"
      ]
     },
     "metadata": {},
     "output_type": "display_data"
    }
   ],
   "source": [
    "fig, ax = plt.subplots(figsize=(8,8))\n",
    "plt.scatter(df_vancouver[\"Sh\"], df_vancouver.GF, s=100, alpha=0.5, c='#2ECC71')\n",
    "ax.set_ylabel(\"Goals\", fontsize=30)\n",
    "ax.set_xlabel(\"Shots\", fontsize=30)\n",
    "plt.show()\n",
    "\n"
   ]
  },
  {
   "cell_type": "code",
   "execution_count": null,
   "metadata": {},
   "outputs": [],
   "source": []
  }
 ],
 "metadata": {
  "kernelspec": {
   "display_name": "Python 3",
   "language": "python",
   "name": "python3"
  },
  "language_info": {
   "codemirror_mode": {
    "name": "ipython",
    "version": 3
   },
   "file_extension": ".py",
   "mimetype": "text/x-python",
   "name": "python",
   "nbconvert_exporter": "python",
   "pygments_lexer": "ipython3",
   "version": "3.8.10"
  }
 },
 "nbformat": 4,
 "nbformat_minor": 2
}
